{
 "cells": [
  {
   "cell_type": "code",
   "execution_count": 1,
   "id": "a767d9ce-0fb3-4ea6-8426-a79032cae9ec",
   "metadata": {},
   "outputs": [
    {
     "name": "stdout",
     "output_type": "stream",
     "text": [
      "First 5 rows of the dataset:\n",
      "                                                text  emotion\n",
      "0                            i didnt feel humiliated  sadness\n",
      "1  i can go from feeling so hopeless to so damned...  sadness\n",
      "2   im grabbing a minute to post i feel greedy wrong    anger\n",
      "3  i am ever feeling nostalgic about the fireplac...     love\n",
      "4                               i am feeling grouchy    anger\n",
      "\n",
      "Count of each emotion:\n",
      "emotion\n",
      "joy         5362\n",
      "sadness     4666\n",
      "anger       2159\n",
      "fear        1937\n",
      "love        1304\n",
      "surprise     572\n",
      "Name: count, dtype: int64\n",
      "\n",
      "Dataset after cleaning:\n",
      "                                                text  emotion\n",
      "0                            i didnt feel humiliated  sadness\n",
      "1  i can go from feeling so hopeless to so damned...  sadness\n",
      "2   im grabbing a minute to post i feel greedy wrong    anger\n",
      "3  i am ever feeling nostalgic about the fireplac...     love\n",
      "4                               i am feeling grouchy    anger\n"
     ]
    }
   ],
   "source": [
    "# Step 1: Import libraries\n",
    "import pandas as pd\n",
    "\n",
    "# Step 2: Load the dataset\n",
    "# Make sure train.txt is in your notebook folder\n",
    "train_data = pd.read_csv(\"train.txt\", sep=\";\", names=[\"text\", \"emotion\"])\n",
    "\n",
    "# Step 3: Quick look at the data\n",
    "print(\"First 5 rows of the dataset:\")\n",
    "print(train_data.head())\n",
    "\n",
    "print(\"\\nCount of each emotion:\")\n",
    "print(train_data['emotion'].value_counts())\n",
    "\n",
    "# Step 4: Basic cleaning (optional for small dataset)\n",
    "train_data = train_data.dropna()          # Remove missing values\n",
    "train_data['text'] = train_data['text'].str.lower()   # Lowercase all text\n",
    "\n",
    "print(\"\\nDataset after cleaning:\")\n",
    "print(train_data.head())"
   ]
  },
  {
   "cell_type": "code",
   "execution_count": 2,
   "id": "f7f5e0a2-291d-45d8-8b65-3fd24f572413",
   "metadata": {},
   "outputs": [
    {
     "name": "stdout",
     "output_type": "stream",
     "text": [
      "Shape of training data: (14400, 14319)\n",
      "Shape of validation data: (1600, 14319)\n"
     ]
    }
   ],
   "source": [
    "# Step 2: Import required libraries\n",
    "from sklearn.feature_extraction.text import CountVectorizer\n",
    "from sklearn.model_selection import train_test_split\n",
    "\n",
    "# Step 2a: Split data into features (X) and labels (y)\n",
    "X = train_data['text']       # Text column\n",
    "y = train_data['emotion']    # Emotion labels\n",
    "\n",
    "# Step 2b: Split into training and validation set (optional small validation)\n",
    "X_train, X_val, y_train, y_val = train_test_split(X, y, test_size=0.1, random_state=42)\n",
    "\n",
    "# Step 2c: Convert text into numbers using CountVectorizer\n",
    "vectorizer = CountVectorizer()       # Bag-of-words representation\n",
    "X_train_vect = vectorizer.fit_transform(X_train)\n",
    "X_val_vect = vectorizer.transform(X_val)\n",
    "\n",
    "# Step 2d: Check shapes\n",
    "print(\"Shape of training data:\", X_train_vect.shape)\n",
    "print(\"Shape of validation data:\", X_val_vect.shape)"
   ]
  },
  {
   "cell_type": "code",
   "execution_count": 3,
   "id": "3bcc595c-c2b3-4fad-8253-b112074bf8da",
   "metadata": {},
   "outputs": [
    {
     "name": "stdout",
     "output_type": "stream",
     "text": [
      "Accuracy on validation set: 0.895\n",
      "\n",
      "Classification Report:\n",
      "               precision    recall  f1-score   support\n",
      "\n",
      "       anger       0.91      0.89      0.90       217\n",
      "        fear       0.84      0.83      0.84       174\n",
      "         joy       0.90      0.94      0.92       503\n",
      "        love       0.84      0.84      0.84       159\n",
      "     sadness       0.93      0.92      0.92       494\n",
      "    surprise       0.82      0.70      0.76        53\n",
      "\n",
      "    accuracy                           0.90      1600\n",
      "   macro avg       0.87      0.85      0.86      1600\n",
      "weighted avg       0.89      0.90      0.89      1600\n",
      "\n"
     ]
    }
   ],
   "source": [
    "# Step 3: Import ML model and metrics\n",
    "from sklearn.linear_model import LogisticRegression\n",
    "from sklearn.metrics import classification_report, accuracy_score\n",
    "\n",
    "# Step 3a: Initialize the model\n",
    "model = LogisticRegression(max_iter=200)\n",
    "\n",
    "# Step 3b: Train the model\n",
    "model.fit(X_train_vect, y_train)\n",
    "\n",
    "# Step 3c: Predict on validation set\n",
    "y_pred = model.predict(X_val_vect)\n",
    "\n",
    "# Step 3d: Evaluate the model\n",
    "print(\"Accuracy on validation set:\", accuracy_score(y_val, y_pred))\n",
    "print(\"\\nClassification Report:\\n\", classification_report(y_val, y_pred))"
   ]
  },
  {
   "cell_type": "code",
   "execution_count": 4,
   "id": "7e1c6e3d-f8a5-4529-bfc0-d072d66a8d03",
   "metadata": {},
   "outputs": [
    {
     "name": "stdout",
     "output_type": "stream",
     "text": [
      "Requirement already satisfied: fpdf in c:\\users\\dell\\appdata\\local\\programs\\python\\python313\\lib\\site-packages (1.7.2)\n"
     ]
    },
    {
     "data": {
      "application/vnd.jupyter.widget-view+json": {
       "model_id": "1acd42a33b854f6b89fd01d10699fee2",
       "version_major": 2,
       "version_minor": 0
      },
      "text/plain": [
       "Textarea(value='', description='Input:', layout=Layout(height='100px', width='70%'), placeholder='Type your se…"
      ]
     },
     "metadata": {},
     "output_type": "display_data"
    },
    {
     "data": {
      "application/vnd.jupyter.widget-view+json": {
       "model_id": "a08118e3a1f14f88b3fe8e8ae5542c5a",
       "version_major": 2,
       "version_minor": 0
      },
      "text/plain": [
       "Button(description='Predict Emotion', style=ButtonStyle())"
      ]
     },
     "metadata": {},
     "output_type": "display_data"
    },
    {
     "data": {
      "application/vnd.jupyter.widget-view+json": {
       "model_id": "922934a89e2f4b6abbcffcc5ceef9c91",
       "version_major": 2,
       "version_minor": 0
      },
      "text/plain": [
       "Button(description='Save to PDF', style=ButtonStyle())"
      ]
     },
     "metadata": {},
     "output_type": "display_data"
    },
    {
     "data": {
      "application/vnd.jupyter.widget-view+json": {
       "model_id": "20624862c2c94793a01afa533e9ad9db",
       "version_major": 2,
       "version_minor": 0
      },
      "text/plain": [
       "Output()"
      ]
     },
     "metadata": {},
     "output_type": "display_data"
    }
   ],
   "source": [
    "# Step 4: Multi-line text input + store and save predictions to PDF\n",
    "import ipywidgets as widgets\n",
    "from IPython.display import display\n",
    "import pandas as pd\n",
    "import warnings\n",
    "!pip install fpdf\n",
    "from fpdf import FPDF  # Make sure fpdf is installed: pip install fpdf\n",
    "\n",
    "warnings.filterwarnings('ignore')\n",
    "\n",
    "# Create output widget\n",
    "output = widgets.Output()\n",
    "\n",
    "# List to store results\n",
    "results = []\n",
    "\n",
    "# Function to predict emotion\n",
    "def predict_emotion(text):\n",
    "    text = [text.lower()]\n",
    "    text_vect = vectorizer.transform(text)\n",
    "    prediction = model.predict(text_vect)\n",
    "    return prediction[0]\n",
    "\n",
    "# Function to handle prediction button click\n",
    "def on_button_click(b):\n",
    "    sentence = text_area.value.strip()\n",
    "    if sentence == \"\":\n",
    "        return  # Skip empty input\n",
    "    emotion = predict_emotion(sentence)\n",
    "    \n",
    "    # Store result\n",
    "    results.append({\"Sentence\": sentence, \"Predicted Emotion\": emotion})\n",
    "    \n",
    "    # Display results\n",
    "    with output:\n",
    "        output.clear_output(wait=True)\n",
    "        df_results = pd.DataFrame(results)\n",
    "        display(df_results)\n",
    "\n",
    "# Function to save results to PDF\n",
    "def save_to_pdf(b):\n",
    "    if not results:\n",
    "        with output:\n",
    "            print(\"No results to save!\")\n",
    "        return\n",
    "    \n",
    "    df_results = pd.DataFrame(results)\n",
    "    \n",
    "    # Create PDF\n",
    "    pdf = FPDF()\n",
    "    pdf.add_page()\n",
    "    pdf.set_font(\"Arial\", size=12)\n",
    "    pdf.cell(200, 10, txt=\"Emotion Predictions\", ln=True, align='C')\n",
    "    pdf.ln(10)\n",
    "    \n",
    "    # Add each row\n",
    "    for idx, row in df_results.iterrows():\n",
    "        text = f\"Sentence: {row['Sentence']}\\nPredicted Emotion: {row['Predicted Emotion']}\\n\"\n",
    "        pdf.multi_cell(0, 10, txt=text)\n",
    "        pdf.ln(2)\n",
    "    \n",
    "    # Save PDF\n",
    "    pdf.output(\"emotion_predictions.pdf\")\n",
    "    \n",
    "    with output:\n",
    "        print(\"Saved results to emotion_predictions.pdf successfully!\")\n",
    "\n",
    "# Multi-line input box\n",
    "text_area = widgets.Textarea(\n",
    "    value='',\n",
    "    placeholder='Type your sentence(s) here',\n",
    "    description='Input:',\n",
    "    layout=widgets.Layout(width='70%', height='100px')\n",
    ")\n",
    "\n",
    "# Buttons\n",
    "submit_button = widgets.Button(description=\"Predict Emotion\")\n",
    "submit_button.on_click(on_button_click)\n",
    "\n",
    "save_button = widgets.Button(description=\"Save to PDF\")\n",
    "save_button.on_click(save_to_pdf)\n",
    "\n",
    "# Display all widgets\n",
    "display(text_area, submit_button, save_button, output)"
   ]
  },
  {
   "cell_type": "code",
   "execution_count": null,
   "id": "32c68608-7fca-4a39-b3e1-262c90fa301d",
   "metadata": {},
   "outputs": [],
   "source": []
  },
  {
   "cell_type": "markdown",
   "id": "41088b9d-fa25-4cb0-b99f-6067749bc8ac",
   "metadata": {},
   "source": []
  },
  {
   "cell_type": "code",
   "execution_count": null,
   "id": "6c9d7c84-a48c-404c-9a42-b263c693448e",
   "metadata": {},
   "outputs": [],
   "source": []
  }
 ],
 "metadata": {
  "kernelspec": {
   "display_name": "Python 3 (ipykernel)",
   "language": "python",
   "name": "python3"
  },
  "language_info": {
   "codemirror_mode": {
    "name": "ipython",
    "version": 3
   },
   "file_extension": ".py",
   "mimetype": "text/x-python",
   "name": "python",
   "nbconvert_exporter": "python",
   "pygments_lexer": "ipython3",
   "version": "3.13.3"
  }
 },
 "nbformat": 4,
 "nbformat_minor": 5
}
